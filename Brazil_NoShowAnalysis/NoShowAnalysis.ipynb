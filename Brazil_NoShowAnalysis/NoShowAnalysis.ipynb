{
 "cells": [
  {
   "cell_type": "markdown",
   "metadata": {},
   "source": [
    "# Project: Investigating No-Show Appointments\n",
    "\n",
    "## Table of Contents\n",
    "<ul>\n",
    "    <li><a href='#intro'>Introduction</a></li>\n",
    "    <li><a href='#dataWrangling'>Data Wrangling</a></li>\n",
    "    <li><a href='#dataExplore'>Exploratory Data Analysis</a></li>\n",
    "    <li><a href='#conclusion'>Conclusions</a></li>\n",
    "</ul>"
   ]
  },
  {
   "cell_type": "markdown",
   "metadata": {},
   "source": [
    "<a id='intro'></a>\n",
    "## Introduction\n",
    ">In this analysis, data for over 110,000 Brazilian medical appointment records are analyzed.  This analysis focuses on assessing rate of 'Show' and 'No-Show' given a number of diferent variables"
   ]
  },
  {
   "cell_type": "code",
   "execution_count": 2,
   "metadata": {},
   "outputs": [
    {
     "name": "stdout",
     "output_type": "stream",
     "text": [
      "<class 'pandas.core.frame.DataFrame'>\n",
      "RangeIndex: 110527 entries, 0 to 110526\n",
      "Data columns (total 14 columns):\n",
      "PatientId         110527 non-null float64\n",
      "AppointmentID     110527 non-null int64\n",
      "Gender            110527 non-null object\n",
      "ScheduledDay      110527 non-null object\n",
      "AppointmentDay    110527 non-null object\n",
      "Age               110527 non-null int64\n",
      "Neighbourhood     110527 non-null object\n",
      "Scholarship       110527 non-null int64\n",
      "Hipertension      110527 non-null int64\n",
      "Diabetes          110527 non-null int64\n",
      "Alcoholism        110527 non-null int64\n",
      "Handcap           110527 non-null int64\n",
      "SMS_received      110527 non-null int64\n",
      "No-show           110527 non-null object\n",
      "dtypes: float64(1), int64(8), object(5)\n",
      "memory usage: 11.8+ MB\n"
     ]
    }
   ],
   "source": [
    "#import data\n",
    "import pandas as pd\n",
    "import numpy as np\n",
    "import matplotlib.pyplot as plt\n",
    "%matplotlib inline\n",
    "\n",
    "\n",
    "#create dataframe from csv\n",
    "df = pd.read_csv('noshowAppointments.csv', sep=',')\n",
    "df.info()"
   ]
  },
  {
   "cell_type": "markdown",
   "metadata": {},
   "source": [
    "<a id='dataWrangling'></a>\n",
    "# Data Wrangling\n",
    "\n",
    "## Data Summary\n",
    "\n",
    "The dataframe consist of 14 columns and 110,527 rows.  That dataframe consist of three different data types: float64, int64 and object (string). \n",
    "\n",
    "### Column notes\n",
    "<ul>\n",
    "    <li>ScheduledDay = date the appointment was set up</li>\n",
    "    <li>AppointmentDay = date of the appointment</li>\n",
    "    <li>Scholarship = is the client enrolled in federal assistance program 'Bolsa Familia'</li>\n",
    "    <li>No-show = 'No' means they showed up, 'yes' means they did not show up</li>\n",
    "    <li>Handcap = Per Kaggle data author, this represents the number of impairments the client suffers from</li>\n",
    "</ul>"
   ]
  },
  {
   "cell_type": "markdown",
   "metadata": {},
   "source": [
    "## General Properties\n",
    "\n",
    "### Nulls\n",
    "The below code checks for rows with null values. 0 items are found."
   ]
  },
  {
   "cell_type": "code",
   "execution_count": 3,
   "metadata": {},
   "outputs": [
    {
     "data": {
      "text/plain": [
       "PatientId         0\n",
       "AppointmentID     0\n",
       "Gender            0\n",
       "ScheduledDay      0\n",
       "AppointmentDay    0\n",
       "Age               0\n",
       "Neighbourhood     0\n",
       "Scholarship       0\n",
       "Hipertension      0\n",
       "Diabetes          0\n",
       "Alcoholism        0\n",
       "Handcap           0\n",
       "SMS_received      0\n",
       "No-show           0\n",
       "dtype: int64"
      ]
     },
     "execution_count": 3,
     "metadata": {},
     "output_type": "execute_result"
    }
   ],
   "source": [
    "df.isnull().sum()\n",
    "\n",
    "\n"
   ]
  },
  {
   "cell_type": "markdown",
   "metadata": {},
   "source": [
    "### Duplicates\n",
    "The below code looks for exact duplicate rows. 0 duplicate rows are found. Looking to patient ID's, there are a total of 48,228 duplicated patient IDs."
   ]
  },
  {
   "cell_type": "code",
   "execution_count": 4,
   "metadata": {},
   "outputs": [
    {
     "name": "stdout",
     "output_type": "stream",
     "text": [
      "There are 0 duplicated rows, and 48228 duplicated patient IDs\n"
     ]
    }
   ],
   "source": [
    "dupRows = sum(df.duplicated())\n",
    "dupClientID = sum(df['PatientId'].duplicated())\n",
    "print('There are {} duplicated rows, and {} duplicated patient IDs'.format(dupRows,dupClientID))\n"
   ]
  },
  {
   "cell_type": "markdown",
   "metadata": {},
   "source": [
    "### Data Types\n",
    "An earlier review of the data types for each column showed both 'ScheduledDay' and 'AppointmentDay' as obj (string), and thus both need to be converated into dates to support analysis."
   ]
  },
  {
   "cell_type": "markdown",
   "metadata": {},
   "source": [
    "### Data Integrity \n",
    "The below code provides a high level review of all columns that are numberic. The analysis shows some issues with the underlying data."
   ]
  },
  {
   "cell_type": "code",
   "execution_count": 5,
   "metadata": {},
   "outputs": [
    {
     "data": {
      "text/html": [
       "<div>\n",
       "<style scoped>\n",
       "    .dataframe tbody tr th:only-of-type {\n",
       "        vertical-align: middle;\n",
       "    }\n",
       "\n",
       "    .dataframe tbody tr th {\n",
       "        vertical-align: top;\n",
       "    }\n",
       "\n",
       "    .dataframe thead th {\n",
       "        text-align: right;\n",
       "    }\n",
       "</style>\n",
       "<table border=\"1\" class=\"dataframe\">\n",
       "  <thead>\n",
       "    <tr style=\"text-align: right;\">\n",
       "      <th></th>\n",
       "      <th>PatientId</th>\n",
       "      <th>AppointmentID</th>\n",
       "      <th>Age</th>\n",
       "      <th>Scholarship</th>\n",
       "      <th>Hipertension</th>\n",
       "      <th>Diabetes</th>\n",
       "      <th>Alcoholism</th>\n",
       "      <th>Handcap</th>\n",
       "      <th>SMS_received</th>\n",
       "    </tr>\n",
       "  </thead>\n",
       "  <tbody>\n",
       "    <tr>\n",
       "      <th>count</th>\n",
       "      <td>1.105270e+05</td>\n",
       "      <td>1.105270e+05</td>\n",
       "      <td>110527.000000</td>\n",
       "      <td>110527.000000</td>\n",
       "      <td>110527.000000</td>\n",
       "      <td>110527.000000</td>\n",
       "      <td>110527.000000</td>\n",
       "      <td>110527.000000</td>\n",
       "      <td>110527.000000</td>\n",
       "    </tr>\n",
       "    <tr>\n",
       "      <th>mean</th>\n",
       "      <td>1.474963e+14</td>\n",
       "      <td>5.675305e+06</td>\n",
       "      <td>37.088874</td>\n",
       "      <td>0.098266</td>\n",
       "      <td>0.197246</td>\n",
       "      <td>0.071865</td>\n",
       "      <td>0.030400</td>\n",
       "      <td>0.022248</td>\n",
       "      <td>0.321026</td>\n",
       "    </tr>\n",
       "    <tr>\n",
       "      <th>std</th>\n",
       "      <td>2.560949e+14</td>\n",
       "      <td>7.129575e+04</td>\n",
       "      <td>23.110205</td>\n",
       "      <td>0.297675</td>\n",
       "      <td>0.397921</td>\n",
       "      <td>0.258265</td>\n",
       "      <td>0.171686</td>\n",
       "      <td>0.161543</td>\n",
       "      <td>0.466873</td>\n",
       "    </tr>\n",
       "    <tr>\n",
       "      <th>min</th>\n",
       "      <td>3.921784e+04</td>\n",
       "      <td>5.030230e+06</td>\n",
       "      <td>-1.000000</td>\n",
       "      <td>0.000000</td>\n",
       "      <td>0.000000</td>\n",
       "      <td>0.000000</td>\n",
       "      <td>0.000000</td>\n",
       "      <td>0.000000</td>\n",
       "      <td>0.000000</td>\n",
       "    </tr>\n",
       "    <tr>\n",
       "      <th>25%</th>\n",
       "      <td>4.172614e+12</td>\n",
       "      <td>5.640286e+06</td>\n",
       "      <td>18.000000</td>\n",
       "      <td>0.000000</td>\n",
       "      <td>0.000000</td>\n",
       "      <td>0.000000</td>\n",
       "      <td>0.000000</td>\n",
       "      <td>0.000000</td>\n",
       "      <td>0.000000</td>\n",
       "    </tr>\n",
       "    <tr>\n",
       "      <th>50%</th>\n",
       "      <td>3.173184e+13</td>\n",
       "      <td>5.680573e+06</td>\n",
       "      <td>37.000000</td>\n",
       "      <td>0.000000</td>\n",
       "      <td>0.000000</td>\n",
       "      <td>0.000000</td>\n",
       "      <td>0.000000</td>\n",
       "      <td>0.000000</td>\n",
       "      <td>0.000000</td>\n",
       "    </tr>\n",
       "    <tr>\n",
       "      <th>75%</th>\n",
       "      <td>9.439172e+13</td>\n",
       "      <td>5.725524e+06</td>\n",
       "      <td>55.000000</td>\n",
       "      <td>0.000000</td>\n",
       "      <td>0.000000</td>\n",
       "      <td>0.000000</td>\n",
       "      <td>0.000000</td>\n",
       "      <td>0.000000</td>\n",
       "      <td>1.000000</td>\n",
       "    </tr>\n",
       "    <tr>\n",
       "      <th>max</th>\n",
       "      <td>9.999816e+14</td>\n",
       "      <td>5.790484e+06</td>\n",
       "      <td>115.000000</td>\n",
       "      <td>1.000000</td>\n",
       "      <td>1.000000</td>\n",
       "      <td>1.000000</td>\n",
       "      <td>1.000000</td>\n",
       "      <td>4.000000</td>\n",
       "      <td>1.000000</td>\n",
       "    </tr>\n",
       "  </tbody>\n",
       "</table>\n",
       "</div>"
      ],
      "text/plain": [
       "          PatientId  AppointmentID            Age    Scholarship  \\\n",
       "count  1.105270e+05   1.105270e+05  110527.000000  110527.000000   \n",
       "mean   1.474963e+14   5.675305e+06      37.088874       0.098266   \n",
       "std    2.560949e+14   7.129575e+04      23.110205       0.297675   \n",
       "min    3.921784e+04   5.030230e+06      -1.000000       0.000000   \n",
       "25%    4.172614e+12   5.640286e+06      18.000000       0.000000   \n",
       "50%    3.173184e+13   5.680573e+06      37.000000       0.000000   \n",
       "75%    9.439172e+13   5.725524e+06      55.000000       0.000000   \n",
       "max    9.999816e+14   5.790484e+06     115.000000       1.000000   \n",
       "\n",
       "        Hipertension       Diabetes     Alcoholism        Handcap  \\\n",
       "count  110527.000000  110527.000000  110527.000000  110527.000000   \n",
       "mean        0.197246       0.071865       0.030400       0.022248   \n",
       "std         0.397921       0.258265       0.171686       0.161543   \n",
       "min         0.000000       0.000000       0.000000       0.000000   \n",
       "25%         0.000000       0.000000       0.000000       0.000000   \n",
       "50%         0.000000       0.000000       0.000000       0.000000   \n",
       "75%         0.000000       0.000000       0.000000       0.000000   \n",
       "max         1.000000       1.000000       1.000000       4.000000   \n",
       "\n",
       "        SMS_received  \n",
       "count  110527.000000  \n",
       "mean        0.321026  \n",
       "std         0.466873  \n",
       "min         0.000000  \n",
       "25%         0.000000  \n",
       "50%         0.000000  \n",
       "75%         1.000000  \n",
       "max         1.000000  "
      ]
     },
     "execution_count": 5,
     "metadata": {},
     "output_type": "execute_result"
    }
   ],
   "source": [
    "df.describe()"
   ]
  },
  {
   "cell_type": "markdown",
   "metadata": {},
   "source": [
    "><strong>Data Integrity Results</strong>\n",
    "<br/>\n",
    ">Age: Ranges from -1 to 115. The negative values for age are incorrect.  Additionally, the value of 115 is exceptionally high and is also likely a data error."
   ]
  },
  {
   "cell_type": "markdown",
   "metadata": {},
   "source": [
    "## Data Cleaning\n",
    "As previously mentioned, there were two data issues noted: Dates stored as strings, and the range of age values. "
   ]
  },
  {
   "cell_type": "code",
   "execution_count": 6,
   "metadata": {},
   "outputs": [],
   "source": [
    "#dates are stored as strings, need to convert to proper dates to do calc's later\n",
    "df['ScheduledDay'] = pd.to_datetime(df['ScheduledDay'])\n",
    "df['AppointmentDay'] = pd.to_datetime(df['AppointmentDay'])"
   ]
  },
  {
   "cell_type": "markdown",
   "metadata": {},
   "source": [
    ">In the above code, columns containing date type data were converted from obj (string) to dates. "
   ]
  },
  {
   "cell_type": "code",
   "execution_count": 7,
   "metadata": {},
   "outputs": [
    {
     "data": {
      "image/png": "[encoded data removed]",
      "text/plain": [
       "<Figure size 432x288 with 1 Axes>"
      ]
     },
     "metadata": {
      "needs_background": "light"
     },
     "output_type": "display_data"
    }
   ],
   "source": [
    "# replace age of -1 with avg. age\n",
    "df.loc[df['Age']==-1, 'Age'] = df['Age'].mean()\n",
    "\n",
    "# Review records with age 100 or greater.\n",
    "df.query('Age >= 100')['Age'].hist();"
   ]
  },
  {
   "cell_type": "markdown",
   "metadata": {},
   "source": [
    "> <strong>Negative Age: </strong>In the above code, we updated the value of 'Age' to the mean of the 'Age' if it had a value of -1. \n",
    "\n",
    "> <strong>Age greater than 100: </strong>There were a higher than expected number of records with an 'Age' greater than or equal to 100 given the 2019 average life expectancy of 76 years according to macrotrends.net.  Lastly, according to UN data for 2018, Brazil sported 12.5 centenarians per 100,000 people. Given this information, we would expect roughly 6 centenarians in the dataset under analysis (an estimated 48,228 unique individuals), however, a close inspection reveals that there are 11 individuals listed as over 100.  To control for this, we'll be organizing age into bins and conduct analysis on the bin level."
   ]
  },
  {
   "cell_type": "markdown",
   "metadata": {},
   "source": [
    "## Data Preparation\n",
    "Below, steps are taken to organize data into groups as well as conduct simple calulations. \n"
   ]
  },
  {
   "cell_type": "code",
   "execution_count": 20,
   "metadata": {},
   "outputs": [],
   "source": [
    "#add a date diff column\n",
    "df['daysToAppointment'] =(df['AppointmentDay'] - df['ScheduledDay']).dt.days\n",
    "\n",
    "# Create bin edges using range analysis from df.describe()\n",
    "binEdges = [-7,0,3,14,178]\n",
    "binNames = ['Negative','Low','Medium','High']\n",
    "\n",
    "#create new column with daystoAppointment bins\n",
    "df['DaysToAptRange'] = pd.cut(df['daysToAppointment'],binEdges, labels = binNames)\n",
    "\n"
   ]
  },
  {
   "cell_type": "markdown",
   "metadata": {},
   "source": [
    "In the above code we:\n",
    "<ul>\n",
    "    <li>Calculate days between schedule date and appointment date and assing to new column ['daysToAppointment']</li>\n",
    "    <li>Create bin ranges and labeles based on quartile analysis</li>\n",
    "    <li>Create new column ['DaysToAptRange'] and assigned based on calculated days.\n",
    "</ul>"
   ]
  },
  {
   "cell_type": "code",
   "execution_count": 21,
   "metadata": {},
   "outputs": [],
   "source": [
    "#Create bins for 'Age' to review relationship between age rate of 'no-show'\n",
    "df['Age'].describe()\n",
    "\n",
    "#modified bin range from outbput of 'describe' to better align with traditional age bins\n",
    "ageBinEdges = [0,18,37,65,115]\n",
    "ageBinNames = ['Young','Adult','Midle-Age','Senior']\n",
    "\n",
    "#create new column\n",
    "df['AgeRange'] = pd.cut(df['Age'], ageBinEdges, labels = ageBinNames)"
   ]
  },
  {
   "cell_type": "markdown",
   "metadata": {},
   "source": [
    "In the above code we:\n",
    "<ul>\n",
    "    <li>Create bin ranges and labeles for age based on traditional age ranges</li>\n",
    "    <li>Create new column ['AgeRange'] and assigned rows based on age.\n",
    "</ul>"
   ]
  },
  {
   "cell_type": "markdown",
   "metadata": {},
   "source": [
    "<a id='dataExplore'></a>\n",
    "# Exploratory Data Analysis"
   ]
  },
  {
   "cell_type": "markdown",
   "metadata": {},
   "source": [
    "### Baseline \n",
    "As the driving purpose of this analysis centers on the potential relationship between different variables on rate of 'No-Show' it is important to first get an understanding of the general rate of 'No-show' for the dataset. From here, we can than review what variables are associated with higher or lower rates of 'No-show' compared to the overall sample set."
   ]
  },
  {
   "cell_type": "code",
   "execution_count": 84,
   "metadata": {
    "scrolled": true
   },
   "outputs": [
    {
     "name": "stdout",
     "output_type": "stream",
     "text": [
      "Baseline appointment show rate 79.81%. Baseline no-show rate 20.19%\n"
     ]
    },
    {
     "data": {
      "image/png": "[encoded data removed]",
      "text/plain": [
       "<Figure size 432x288 with 1 Axes>"
      ]
     },
     "metadata": {
      "needs_background": "light"
     },
     "output_type": "display_data"
    }
   ],
   "source": [
    "#First get baseline distribution of show vs no-shows\n",
    "#totalRecordCount = df.shape[0]\n",
    "#df['No-show'].value_counts()/round(totalRecordCount\n",
    "#(d,2)f['No-show'].value_counts()/totalRecordCount*100).plot(kind='bar', title ='Baseline % distribution of No-show vs Show (\"Yes\" = No-show)');\n",
    "df1 = df.groupby('No-show')['AppointmentID'].count()\n",
    "df1 = df1.divide(df1.sum())*100\n",
    "clientNoShow = round(df1[0],2).astype(str)\n",
    "clientShow = round(df1[1],2).astype(str)\n",
    "print('Baseline appointment show rate ' + clientNoShow + '%. Baseline no-show rate '+ clientShow +'%');\n",
    "df1.plot(kind='bar', title ='Baseline % distribution of No-show vs Show (\"Yes\" = No-show)');\n",
    "\n"
   ]
  },
  {
   "cell_type": "markdown",
   "metadata": {},
   "source": [
    "> <strong>Baseline analysis: </strong> A quick review of the dataset shows roughly 80% of individuals show up for their appointment, while about 20% are no-shows. We'll be reviewing the dataset to see if we can find variables that correlate with a no-show rate that is meaningfully higher or lower from the baseline rate of 20%."
   ]
  },
  {
   "cell_type": "markdown",
   "metadata": {},
   "source": [
    "### Q1. Do clients with medical coverage have lower no show?\n"
   ]
  },
  {
   "cell_type": "code",
   "execution_count": 85,
   "metadata": {},
   "outputs": [
    {
     "name": "stdout",
     "output_type": "stream",
     "text": [
      "Rate of no-show for clients with scholarship: 19.81% Rate of no-show for clients without scholarship:23.74%\n"
     ]
    },
    {
     "data": {
      "image/png": "[encoded data removed]",
      "text/plain": [
       "<Figure size 432x288 with 1 Axes>"
      ]
     },
     "metadata": {
      "needs_background": "light"
     },
     "output_type": "display_data"
    }
   ],
   "source": [
    "#Does medical coverage correlate with show vs no-show\n",
    "# Create simple stacked barchart to compare rate of 'no-show'\n",
    "df2 = df.groupby(['Scholarship','No-show'])['AppointmentID'].count().unstack()\n",
    "df2 = df2.T.div(df2.T.sum()).T*100\n",
    "df2.plot(kind='bar',stacked=True, title = 'Rate of \"No-Show\" and Medical Coverage (Scholarship)');\n",
    "noshowNoScholarship = round(df2.unstack().T[2],2).astype(str)\n",
    "noshowYesScholarhip = round(df2.unstack().T[3],2).astype(str)\n",
    "print('% Rate of no-show for clients with scholarship: ' + str(noshowNoScholarship) + '% Rate of no-show for clients without scholarship:' + str(noshowYesScholarhip) + '%')\n"
   ]
  },
  {
   "cell_type": "markdown",
   "metadata": {},
   "source": [
    "> <strong>Scholarship Analysis: </strong>Based on the above analysis, it does not look like there exists a strong relationship between medical coverage (Scholarship) and rate of 'no-show'. For both individuals with and without scholarship, the rate of 'no-show' stands at around 20%--the same as the baseline. "
   ]
  },
  {
   "cell_type": "markdown",
   "metadata": {},
   "source": [
    "### Q2. Does length in time between appointment schedule date and appointment date impact no-show?\n"
   ]
  },
  {
   "cell_type": "code",
   "execution_count": 86,
   "metadata": {},
   "outputs": [
    {
     "data": {
      "image/png": "[encoded data removed]",
      "text/plain": [
       "<Figure size 432x288 with 1 Axes>"
      ]
     },
     "metadata": {
      "needs_background": "light"
     },
     "output_type": "display_data"
    }
   ],
   "source": [
    "#Create new dataframe to focus on DaysToAptRange and no show\n",
    "df3 = df.groupby(['DaysToAptRange','No-show'])['AppointmentID'].count().unstack()\n",
    "\n",
    "# with new dateframe, divide and manipulate to create simple barchart\n",
    "df3.T.div(df3.T.sum()/100).T.plot(kind='bar',stacked=True, title='Rate of \"No-Show\" and Number of Days till Appointment');"
   ]
  },
  {
   "cell_type": "markdown",
   "metadata": {},
   "source": [
    "> <strong>Days from appointment schedule date to appointment date Analysis: </strong> Based on the visualization above, there is a clear positive correlation between the length of time between dates and 'no-show'. As the number of days from date of appointment scheduled to date of appointment increases, the rate of no-show tends to increase.  "
   ]
  },
  {
   "cell_type": "markdown",
   "metadata": {},
   "source": [
    "### Q3. Do recieved SMS messages correlate with lower/higher no-show?"
   ]
  },
  {
   "cell_type": "code",
   "execution_count": 117,
   "metadata": {},
   "outputs": [
    {
     "name": "stdout",
     "output_type": "stream",
     "text": [
      "No-show rate for SMS received: 27.57%, no-show rate for no SMS recieved 16.7%\n"
     ]
    },
    {
     "data": {
      "image/png": "[encoded data removed]",
      "text/plain": [
       "<Figure size 432x288 with 1 Axes>"
      ]
     },
     "metadata": {
      "needs_background": "light"
     },
     "output_type": "display_data"
    }
   ],
   "source": [
    "#Create new dataframe based on group by sms and no-show\n",
    "df4 = df.groupby(['SMS_received','No-show'])['AppointmentID'].count().unstack()\n",
    "\n",
    "#plot stacked bar chart\n",
    "df4 = df4.T.divide(df4.T.sum()/100).T\n",
    "noShowSMSReceived = round(df4.unstack().T[3],2).astype(str)\n",
    "noShowSMSNoReceived = round(df4.unstack().T[2],2).astype(str)\n",
    "\n",
    "print('No-show rate for SMS received: ' + noShowSMSReceived + '%, no-show rate for no SMS recieved ' + noShowSMSNoReceived + '%')\n",
    "df4.plot(kind='bar',stacked = True, title = 'Rate of \"No-Show\" and SMS outcome');"
   ]
  },
  {
   "cell_type": "markdown",
   "metadata": {},
   "source": [
    "> <strong>SMS and no-show analysis: </strong>The above visual goes counter to what one would expect, it shows a positive correlation between SMS messages and rate of no-show.  Individuals who recieve a SMS have a higher rate of no-show compared to patients who did not recieve a SMS. "
   ]
  },
  {
   "cell_type": "markdown",
   "metadata": {},
   "source": [
    "### Q4. Do individuals with a handicap have a lower no-show rate?"
   ]
  },
  {
   "cell_type": "markdown",
   "metadata": {},
   "source": [
    "In the below code a new calculated field 'hasHandicap', which is set as 0 (false, ie no handicap) by default. Afterwards, if the client has any impairment (handcap >=1), then 'hasHandicap' is set to 1.  This is used to view broadly any potential correlation between a client having any impairment and rate of no-show "
   ]
  },
  {
   "cell_type": "code",
   "execution_count": 88,
   "metadata": {},
   "outputs": [
    {
     "data": {
      "image/png": "[encoded data removed]",
      "text/plain": [
       "<Figure size 432x288 with 1 Axes>"
      ]
     },
     "metadata": {
      "needs_background": "light"
     },
     "output_type": "display_data"
    }
   ],
   "source": [
    "#does Handcap impact show vs no-show?\n",
    "df5 = df\n",
    "\n",
    "#create new column, default to false (0)\n",
    "df5['hasHandicap'] = 0\n",
    "\n",
    "# set hasHandicap = 1 if patient has 1 or more 'Handcap'\n",
    "df5.loc[df['Handcap'] >= 1, 'hasHandicap'] = 1\n",
    "\n",
    "# create stacked bar chart\n",
    "df5 = df5.groupby(['hasHandicap','No-show'])['AppointmentID'].count().unstack()\n",
    "df5.T.divide(df5.T.sum()/100).T.plot(kind='bar', stacked=True, title='4a) Rate of \"No-Show\" and Handicap');"
   ]
  },
  {
   "cell_type": "markdown",
   "metadata": {},
   "source": [
    "#### A deeper review on handicap data and no-show"
   ]
  },
  {
   "cell_type": "code",
   "execution_count": 91,
   "metadata": {},
   "outputs": [
    {
     "data": {
      "image/png": "[encoded data removed]",
      "text/plain": [
       "<Figure size 432x288 with 1 Axes>"
      ]
     },
     "metadata": {
      "needs_background": "light"
     },
     "output_type": "display_data"
    }
   ],
   "source": [
    "#Instead of looking at aggregate handicap data, we'll review all values of 'Handcap'  1 to 4\n",
    "df5 = df.groupby(['Handcap','No-show'])['AppointmentID'].count().unstack()\n",
    "df5.T.divide(df5.T.sum()/100).T.plot(kind='bar', stacked=True, title='4b) % Rate of \"No-Show\" and Severity of Handicap');\n"
   ]
  },
  {
   "cell_type": "markdown",
   "metadata": {},
   "source": [
    "> <strong>Existance of Handicap and No-show analysis: </strong>Based on visual 4a the rate of 'no-show' is roughly the same for both individuals with and without a handicap when viewing in aggregate. When reviewing more detailed 'Handcap' data, as seen in 4b, there does appear to be an increase in the rate of 'No-show' as the number of 'Handcap' increases."
   ]
  },
  {
   "cell_type": "markdown",
   "metadata": {},
   "source": [
    "### Q5. Do older individuals stick with their appointments?"
   ]
  },
  {
   "cell_type": "code",
   "execution_count": 92,
   "metadata": {},
   "outputs": [
    {
     "data": {
      "image/png": "[encoded data removed]",
      "text/plain": [
       "<Figure size 432x288 with 1 Axes>"
      ]
     },
     "metadata": {
      "needs_background": "light"
     },
     "output_type": "display_data"
    }
   ],
   "source": [
    "# Create new dataframe, grouping by age range and no-show\n",
    "df6 = df.groupby(['AgeRange','No-show'])['AppointmentID'].count().unstack()\n",
    "df6.T.divide(df6.T.sum()/100).T.plot(kind = 'bar', stacked = True);"
   ]
  },
  {
   "cell_type": "markdown",
   "metadata": {},
   "source": [
    "> <strong>Age and No-show analysis: </strong>Based on the above visual there is a mild correlation between age and rate of no-show. The visual demonstrates that younger individuals tend to have higher rates of no-show (no-show = 'Yes') as compared to older individuals. Seniors (65+) demonstrated the lowest rate of missing appointments compared to other age groups. "
   ]
  },
  {
   "cell_type": "markdown",
   "metadata": {},
   "source": [
    "### Q6. Investigating SMS and length of time to appointment and no-show\n",
    "\n",
    "Previously it was noted that SMS_Recieved and higher lengths of times between scheduled date and appointment date were associated with a higher no-show rate. The below analysis visualizes the observed rate of no-show in relation to both SMS_Recieved and length of time between scheduled date and appointment date.\n",
    "<br/>\n",
    "<strong>For both of the below visuals, we exclude negative items for 'DaysToAptRange'</strong>"
   ]
  },
  {
   "cell_type": "code",
   "execution_count": 93,
   "metadata": {
    "scrolled": true
   },
   "outputs": [
    {
     "data": {
      "image/png": "[encoded data removed]",
      "text/plain": [
       "<Figure size 432x288 with 1 Axes>"
      ]
     },
     "metadata": {
      "needs_background": "light"
     },
     "output_type": "display_data"
    }
   ],
   "source": [
    "#Review potential correlation between DaysToAptRange and SMS_received\n",
    "df7 = df.query('DaysToAptRange != \"Negative\"').groupby(['DaysToAptRange','SMS_received'])['AppointmentID'].count().unstack()\n",
    "df7.T.divide(df7.T.sum()/100).T.plot(kind='bar', stacked = True, title='6a) % SMS recieved by DaysToAptRange');\n"
   ]
  },
  {
   "cell_type": "markdown",
   "metadata": {},
   "source": [
    "Based on the above analysis, it appears that a higher 'DaysToAptRange' is associated with greater rate of SMS_recieved. With this in mind, the below then attempts to visualize rate of no-show against DaysToAptRange and SMS_Recieved."
   ]
  },
  {
   "cell_type": "code",
   "execution_count": 94,
   "metadata": {},
   "outputs": [
    {
     "data": {
      "image/png": "[encoded data removed]",
      "text/plain": [
       "<Figure size 432x288 with 1 Axes>"
      ]
     },
     "metadata": {
      "needs_background": "light"
     },
     "output_type": "display_data"
    }
   ],
   "source": [
    "df8 = df.query('DaysToAptRange != \"Negative\"').groupby(['DaysToAptRange','SMS_received','No-show'])['AppointmentID'].count().unstack()\n",
    "df8.T.divide(df8.T.sum()/100).T.plot(kind='bar',stacked = True, title ='6b) % Rate of no-show by SMS_recieved And DaysToAptRange');"
   ]
  },
  {
   "cell_type": "markdown",
   "metadata": {},
   "source": [
    "><strong>Analysis of rate of no-show and SMS_Recieved and DaysToAptRange</strong>In the above analysis, visual 6b demonstrates that SMS_Recieved correlates positively with decreased rates of no-show after factoring the impact of DaysToAptRange.  Within each category, the rate of no-show equal to 'Yes' decreased when a SMS message was recieved.  This suggest that a text reminder correlates with a higher rate of clients showing up to their appointments."
   ]
  },
  {
   "cell_type": "markdown",
   "metadata": {},
   "source": [
    "<a id='conclusion'></a>\n",
    "## Conclusions\n",
    "\n",
    "The above analysis visually reviews the possible relationship between different variables and the rate of no-show for the purpose of finding a variable or combination of variables that significantly impact the rate of no-show. For the dataset as a whole the rate of no-show = 'Yes' stood at roughly 20%, while 80% of appointments were succesful with the client showing up. \n",
    "\n",
    "For the majority of variables in the dataset, there appears to be no or weak correlation with rate of no-show. For example, in Q1 (Do clients with medical coverage have lower no show?) the dataset was split by the variable 'Scholarship'.  Based on the chart, the rate of no-show for patients with and without scholarship was roughly the same at 19.8% for clients without scholarship and 23.7% for clients with scholarship.\n",
    "\n",
    "\n",
    "In Q2 (Does length in time between appointment schedule date and appointment date impact no-show?), the rate of no-show was analyzed against the length of time between the date an appointment was scheduled and the actual date of the appointment.  To better visualize and assess the relationship between rate of no-show and length of time between 'ScheduledDay' and 'AppointmentDay', a new column--DaysToAptRange--was created fitting the date difference between 'ScheduledDay' and 'AppointmentDay' into a bin. As shown on the chart, there was clear increase in no-show rate as length of days increases between 'ScheduledDay' and 'AppointmentDay'.\n",
    "\n",
    "\n",
    "In Q3 (Do recieved SMS messages correlate with lower/higher no-show?), the dataset is split on the variable 'SMS_recieved' tom cpare the rate of no-show for individuals who recieved a reminder sms message and those who did not. Surprisingly, a stacked bar chart showed that rate of no-show for patients who recieved a SMS message stood at 27.6%, while patients who did not recieve a SMS message had a no-show rate of 16.7%.  \n",
    "\n",
    "\n",
    "Following the results of Q3, additional review of SMS_Recieved was warranted as the results were counter to initial expectations. The first step was to assess the potential correlation between SMS_Recieved and a seperate independent variable. Analysis reviewed a postive correlation between SMS_Recieved and DaysToAptRange. Namely, the occurance of SMS_Recieved increased as the measure of DaysToAptRange increased.  When the DaysToAptRange was 'Low', the occurance of SMS_Recieved stood at around 23% compared to rates of roughly 60% for DaysToAptRange within the ranges of 'Medium' and 'High' as shown in chart 4a.  This positive correlation offers insights into the results of Q3, and suggest that the increase of no-show rates seen in the patients who recieved a SMS message was simply related to the fact that most patients who recieved a SMS message were also patients who scheduled their appointments relatively far in advance.  With this in mind, the second part of Q4 focuses on analyzing rate of no-show with the variables of SMS_Recieved and DaysToAptRange. As the visual in 4b shows, the rate of no-show decreases for patients who recieved a SMS message compared to clients who did not recieve a SMS message after spliting the data by DaysToAptRange. "
   ]
  }
 ],
 "metadata": {
  "kernelspec": {
   "display_name": "Python 3",
   "language": "python",
   "name": "python3"
  },
  "language_info": {
   "codemirror_mode": {
    "name": "ipython",
    "version": 3
   },
   "file_extension": ".py",
   "mimetype": "text/x-python",
   "name": "python",
   "nbconvert_exporter": "python",
   "pygments_lexer": "ipython3",
   "version": "3.7.5"
  }
 },
 "nbformat": 4,
 "nbformat_minor": 2
}
