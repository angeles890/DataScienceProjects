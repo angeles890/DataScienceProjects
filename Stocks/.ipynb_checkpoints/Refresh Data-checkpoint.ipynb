{
 "cells": [
  {
   "cell_type": "code",
   "execution_count": 7,
   "metadata": {},
   "outputs": [],
   "source": [
    "import pandas as pd\n",
    "import requests\n",
    "from bs4 import BeautifulSoup\n",
    "import time\n",
    "from globalfunctions import *\n",
    "from Indicators import *\n",
    "import socket\n",
    "from subprocess import check_output\n",
    "\n",
    "url = 'https://www.invesco.com/us/financial-products/etfs/holdings/main/holdings/0?audienceType=Investor&action=download&ticker=QQQ'\n",
    "#'https://www.invesco.com/us/financial-products/etfs/holdings/main/holdings/0?ticker=QQQ&action=download'\n",
    "file_name = 'NASDAQ100.csv'\n"
   ]
  },
  {
   "cell_type": "code",
   "execution_count": 8,
   "metadata": {},
   "outputs": [
    {
     "name": "stdout",
     "output_type": "stream",
     "text": [
      "Internet connected\n",
      "Success\n"
     ]
    }
   ],
   "source": [
    "def isConnected():\n",
    "    ipaddress = socket.gethostbyname(socket.gethostname())\n",
    "    if ipaddress == '127.0.0.1':\n",
    "        print('No internet, attempting to reconnect...')\n",
    "        time.sleep(5)\n",
    "        output = check_output('netsh wlan connect ssid=\"Kung Fu Kitty\" name=\"Kung Fu Kitty\"')\n",
    "        time.sleep(15)\n",
    "        return isConnected()\n",
    "    else:\n",
    "        print('Internet connected')\n",
    "        return True\n",
    "\n",
    "\n",
    "\n",
    "if isConnected():\n",
    "    print('Success')\n",
    "else:\n",
    "    print('Failure')"
   ]
  },
  {
   "cell_type": "code",
   "execution_count": 9,
   "metadata": {},
   "outputs": [],
   "source": [
    "def checkTicker(ticker):\n",
    "    yahooURL = 'https://finance.yahoo.com/quote/{0}/'.format(ticker)\n",
    "    #yahooURL = 'https://finance.yahoo.com/quote/{0}?p={1}'.format(t,t)\n",
    "    xRes = requests.get(yahooURL,allow_redirects=False)\n",
    "    return 200 == xRes.status_code\n",
    "    "
   ]
  },
  {
   "cell_type": "code",
   "execution_count": 10,
   "metadata": {},
   "outputs": [
    {
     "data": {
      "text/plain": [
       "True"
      ]
     },
     "execution_count": 10,
     "metadata": {},
     "output_type": "execute_result"
    }
   ],
   "source": [
    "checkTicker('AAPL')"
   ]
  },
  {
   "cell_type": "code",
   "execution_count": 3,
   "metadata": {},
   "outputs": [],
   "source": [
    "if 1==0:\n",
    "    #Gets the latest NASDAQ 100 ticker list\n",
    "    #getCSV(url,file_name)\n",
    "\n",
    "    #load NASDAQ100.csv into dataframe\n",
    "    df = pd.read_csv(file_name, sep=',')\n",
    "\n",
    "    dfInsert = df[['Fund Ticker','Security Identifier','Holding Ticker','Shares/Par Value','MarketValue','Weight','Name','Sector','Date']]\n",
    "\n",
    "    #Update tblNASDAQ100 with latest data\n",
    "    #Truncate Table tblNASDQ100; \n",
    "    iSQL = \"Insert Into tblNASDQ100 (FundTicker,SecurityNum,HoldingsTicker,Shares,MarketValue,[Weight],companyName,Sector,CreateDate) VALUES(?,?,?,?,?,?,?,?,?)\"\n",
    "    dfTitles = ['Fund Ticker','Security Identifier','Holding Ticker','Shares/Par Value','MarketValue','Weight','Name','Sector','Date']\n",
    "    insertTbl(df = dfInsert,iSQL = iSQL,dfTitles = dfTitles)\n",
    "    print('Complete')"
   ]
  },
  {
   "cell_type": "code",
   "execution_count": 11,
   "metadata": {},
   "outputs": [
    {
     "name": "stdout",
     "output_type": "stream",
     "text": [
      "398 tickers\n"
     ]
    }
   ],
   "source": [
    "# Get all tickers from SQL DB\n",
    "df = getData(\"Select Distinct ticker as 'HoldingsTicker', 'fkStrategyID' = SUBSTRING(fkStrategyID,0,len(fkStrategyID)) From vw_tblStocks\")\n",
    "originalTickerCount = df.shape[0]\n",
    "print(\"{0} tickers\".format(originalTickerCount))\n"
   ]
  },
  {
   "cell_type": "code",
   "execution_count": 12,
   "metadata": {},
   "outputs": [
    {
     "name": "stdout",
     "output_type": "stream",
     "text": [
      "5: ADBE\n",
      "10: ALEX\n",
      "15: AMD\n",
      "20: ARCT\n",
      "25: ASML\n",
      "30: AVGO\n",
      "35: BABA\n",
      "40: BGS\n",
      "45: BKU\n",
      "50: BP\n",
      "55: CALX\n",
      "60: CELH\n",
      "65: CGC\n",
      "70: CIT\n",
      "75: COMM\n",
      "80: CRM\n",
      "85: CTAS\n",
      "90: CVX\n",
      "95: DAN\n",
      "100: DNOW\n",
      "105: EAT\n",
      "110: EGHT\n",
      "115: EPRT\n",
      "120: EXC\n",
      "125: FEAC\n",
      "130: FLR\n",
      "135: FVRR\n",
      "140: GILD\n",
      "145: GOGO\n",
      "150: GS\n",
      "155: HMC\n",
      "160: HRTX\n",
      "165: IDXX\n",
      "170: INFN\n",
      "175: INVA\n",
      "180: ISBC\n",
      "185: JPM\n",
      "190: KODK\n",
      "195: LILAK\n",
      "200: LRCX\n",
      "205: MAC\n",
      "210: MD\n",
      "215: MGNI\n",
      "220: MNST\n",
      "225: MTDR\n",
      "230: MYGN\n",
      "235: NLS\n",
      "240: NVDA\n",
      "245: OMI\n",
      "250: PAGP\n",
      "255: PCAR\n",
      "260: PEP\n",
      "265: PINS\n",
      "270: PSEC\n",
      "275: REAL\n",
      "280: RIO\n",
      "285: RPAI\n",
      "290: RWT\n",
      "295: SBH\n",
      "300: SGEN\n",
      "305: SHY\n",
      "310: SMFG\n",
      "315: SPR\n",
      "320: STL\n",
      "325: SWKS\n",
      "330: TCOM\n",
      "335: TROX\n",
      "340: TTWO\n",
      "345: TXN\n",
      "350: UL\n",
      "355: UPWK\n",
      "360: VIPS\n",
      "365: VRTX\n",
      "370: WBT\n",
      "375: WMT\n",
      "380: XLB\n",
      "385: XLNX\n",
      "390: XOM\n",
      "395: YY\n",
      "398 tickers in list\n",
      "0 tickers to delete\n"
     ]
    }
   ],
   "source": [
    "#Generate list of tickers to collect data\n",
    "tickers = []\n",
    "tickersToRemove = []\n",
    "counter = 0\n",
    "for dr in df.iterrows():\n",
    "    counter += 1\n",
    "    t = dr[1]['HoldingsTicker'].strip()\n",
    "    if counter %5 ==0:\n",
    "        print(\"{0}: {1}\".format(counter,t))\n",
    "    if checkTicker(t):\n",
    "        fkStrategyID = dr[1]['fkStrategyID'].split(';')\n",
    "        tickers.append({'ticker': t.strip(), 'fkStrategyID': fkStrategyID, 'isUpdated':0})\n",
    "    else:\n",
    "        print(t + ' had an issue.')\n",
    "        tickersToRemove.append(t)\n",
    "\n",
    "print(\"{0} tickers in list\".format(len(tickers)))\n",
    "print(\"{0} tickers to delete\".format(len(tickersToRemove)))"
   ]
  },
  {
   "cell_type": "code",
   "execution_count": 72,
   "metadata": {},
   "outputs": [
    {
     "name": "stdout",
     "output_type": "stream",
     "text": [
      "[]\n"
     ]
    }
   ],
   "source": [
    "print(tickersToRemove)"
   ]
  },
  {
   "cell_type": "code",
   "execution_count": 16,
   "metadata": {},
   "outputs": [],
   "source": [
    "def getMomentumData(t,td_ameritrade_key):\n",
    "    ticker = t['ticker']\n",
    "    #create URL for CNBC\n",
    "    cnbc_url = 'https://www.cnbc.com/quotes/?symbol={0}'\n",
    "    url = cnbc_url.format(ticker)\n",
    "    #submit GET request\n",
    "    r = requests.get(url)\n",
    "    #Digest HTML via BeautifulSoup\n",
    "    soup = BeautifulSoup(r.content,'lxml')\n",
    "\n",
    "    #with html now as an object, get data\n",
    "    yearHigh = float(soup.find('span','year high').contents[0])\n",
    "    closePrice = float(soup.find('span','last original').contents[0])\n",
    "    percentFromHigh = closePrice/yearHigh\n",
    "    #Use TD Ameritrade API to get price history for ticker\n",
    "    priceHistory = get_price_history(td_ameritrade_key,symbol=ticker, period=6, periodType='month', frequencyType='daily')\n",
    "    \n",
    "    \n",
    "    i = len(priceHistory['candles'])-1\n",
    "    j = i-100\n",
    "    k = j-10\n",
    "    #Calculate 20 week ROC (HL/2)\n",
    "    if i>110:\n",
    "        numerator = ((priceHistory['candles'][i]['high'] + priceHistory['candles'][i]['low']))/2\n",
    "        denominator = ((priceHistory['candles'][j]['high'] + priceHistory['candles'][j]['low'])+(priceHistory['candles'][k]['high'] + priceHistory['candles'][k]['low']))/4\n",
    "        roc = numerator/denominator\n",
    "        hv = historicalVolatility(priceHistory,101,'dd')\n",
    "    else:\n",
    "        roc = -1.0\n",
    "        hv = 0.0\n",
    "\n",
    "    #append scrapped data into data list to be stored in db later\n",
    "    d = []\n",
    "    for sID in t['fkStrategyID']:\n",
    "        d.append({'Ticker':ticker,'closePrice':closePrice,'yearHigh':yearHigh,'percentFromHigh':percentFromHigh,'sixMonthReturn':roc,'historicalVolatility':hv,'fkPortfolioStrategyID':sID})\n",
    "    time.sleep(1)\n",
    "    return d\n",
    "\n",
    "#function webscrapes 52-High data and calls get_price_history to calc 20 week HL/2 ROC\n",
    "def get_momentum_data(tickers, data = []):\n",
    "    key =  getData(\"SELECT [keyValue] FROM [fattailinvestorweb].[dbo].[tblAPIKeys] where pkAPIID = 1\")\n",
    "    td_ameritrade_key = key['keyValue'][0]\n",
    "    #create list to hold dictionary values\n",
    "    d = data\n",
    "    #create list to hold errors\n",
    "    errors = []\n",
    "    tickers = [t for t in tickers if t['isUpdated'] == 0]\n",
    "    for t in tickers:\n",
    "        try:\n",
    "            print(\"Collecting for \" + t['ticker'])\n",
    "            for n in getMomentumData(t,td_ameritrade_key):\n",
    "                d.append(n)\n",
    "            t['isUpdated'] = 1\n",
    "        except:\n",
    "            try:\n",
    "                time.sleep(5)\n",
    "                print(\"** SECOND TRY FOR \" + t['ticker']) + \" ***\"\n",
    "                for n in getMomentumData(t,td_ameritrade_key):\n",
    "                    d.append(n)\n",
    "                t['isUpdated'] = 1\n",
    "            except:\n",
    "                print('*** FAILED FOR ' + t['ticker']) + \" ***\"\n",
    "                pass\n",
    "            \n",
    "    print(\"Collecting Complete!\")\n",
    "    return d"
   ]
  },
  {
   "cell_type": "code",
   "execution_count": 15,
   "metadata": {},
   "outputs": [],
   "source": [
    "d = []\n",
    "key =  getData(\"SELECT [keyValue] FROM [fattailinvestorweb].[dbo].[tblAPIKeys] where pkAPIID = 1\")\n",
    "td_ameritrade_key = key['keyValue'][0]\n"
   ]
  },
  {
   "cell_type": "code",
   "execution_count": 31,
   "metadata": {},
   "outputs": [],
   "source": [
    "i = ''\n",
    "ticker = 'MOBL'\n",
    "for index, item in enumerate(tickers):\n",
    "    if item['ticker'] == ticker:\n",
    "        i = index        \n",
    "        \n",
    "if tickers[i]['ticker'] == ticker:\n",
    "    tickers.pop(i)\n"
   ]
  },
  {
   "cell_type": "code",
   "execution_count": 32,
   "metadata": {},
   "outputs": [
    {
     "data": {
      "text/plain": [
       "'MRK'"
      ]
     },
     "execution_count": 32,
     "metadata": {},
     "output_type": "execute_result"
    }
   ],
   "source": [
    "tickers[i]['ticker']"
   ]
  },
  {
   "cell_type": "code",
   "execution_count": 39,
   "metadata": {},
   "outputs": [
    {
     "name": "stdout",
     "output_type": "stream",
     "text": [
      "Remaining: 9\n",
      "Internet connected\n",
      "Collecting XOM\n",
      "Internet connected\n",
      "Collecting XPER\n",
      "Internet connected\n",
      "Collecting YELP\n",
      "Internet connected\n",
      "Collecting YEXT\n",
      "Internet connected\n",
      "Collecting YNDX\n",
      "Internet connected\n",
      "Collecting YY\n",
      "Internet connected\n",
      "Collecting ZGNX\n",
      "Internet connected\n",
      "Collecting ZM\n",
      "Internet connected\n",
      "Collecting ZUO\n",
      "Done Collecting\n"
     ]
    }
   ],
   "source": [
    "# This will scrape data AND call the TD Ameritrade API\n",
    "cntRemaining = [n for n in tickers if n['isUpdated'] == 0]\n",
    "print('Remaining: ' + str(len(cntRemaining)))\n",
    "for t in tickers:\n",
    "    if t['isUpdated'] == 0:\n",
    "        try:\n",
    "            if isConnected():\n",
    "                print('Collecting ' + t['ticker'])\n",
    "                for n in getMomentumData(t,td_ameritrade_key):\n",
    "                    d.append(n)\n",
    "                t['isUpdated'] = 1\n",
    "                time.sleep(0.25)\n",
    "        except:\n",
    "            try:\n",
    "                time.sleep(1)\n",
    "                if isConnected():\n",
    "                    print(\"** SECOND TRY FOR \" + t['ticker']) + \" ***\"                            \n",
    "                    for n in getMomentumData(t,td_ameritrade_key):\n",
    "                        d.append(n)\n",
    "                    t['isUpdated'] = 1\n",
    "            except:\n",
    "                print('*** FAILED FOR ' + t['ticker']) + \" ***\"\n",
    "                pass\n",
    "print('Done Collecting')"
   ]
  },
  {
   "cell_type": "code",
   "execution_count": 41,
   "metadata": {},
   "outputs": [],
   "source": [
    "t = [i['Ticker'] for i in d]\n",
    "missingTickers = [n['ticker'] for n in tickers if n['ticker'] not in t]\n",
    "assert len(missingTickers) ==0"
   ]
  },
  {
   "cell_type": "code",
   "execution_count": 41,
   "metadata": {},
   "outputs": [
    {
     "data": {
      "text/plain": [
       "{'Ticker': 'ZGNX',\n",
       " 'closePrice': 21.2,\n",
       " 'yearHigh': 57.2,\n",
       " 'percentFromHigh': 0.3706293706293706,\n",
       " 'sixMonthReturn': 0.6642143142742902,\n",
       " 'historicalVolatility': 0.514073230186707,\n",
       " 'fkPortfolioStrategyID': '2005'}"
      ]
     },
     "execution_count": 41,
     "metadata": {},
     "output_type": "execute_result"
    }
   ],
   "source": [
    "d[388]"
   ]
  },
  {
   "cell_type": "code",
   "execution_count": 42,
   "metadata": {},
   "outputs": [],
   "source": [
    "#convert data list to dataFrame\n",
    "headers = ['Ticker','closePrice','yearHigh','percentFromHigh','sixMonthReturn','historicalVolatility','fkPortfolioStrategyID']\n",
    "df2 = pd.DataFrame(d,columns=headers)\n",
    "iSQL = 'INSERT INTO tblStockPerformance (ticker,closePrice,yearHigh,percentFromHigh,sixMonthReturn,historicalVolatility,fkPortfolioStrategyID) Values(?,?,?,?,?,?,?)'\n",
    "\n",
    "#store dataFrame into sql db\n",
    "insertTbl(df2,iSQL,headers)"
   ]
  },
  {
   "cell_type": "code",
   "execution_count": null,
   "metadata": {},
   "outputs": [],
   "source": []
  },
  {
   "cell_type": "code",
   "execution_count": 31,
   "metadata": {},
   "outputs": [
    {
     "name": "stdout",
     "output_type": "stream",
     "text": [
      "  ticker  closePrice\n",
      "0   TSLA    485.7900\n",
      "1     ZM    317.1000\n",
      "2   NVDA    541.2100\n",
      "3   PYPL    204.0300\n",
      "4   AAPL    130.6400\n",
      "5   LULU    378.0500\n",
      "6   MELI   1156.6851\n",
      "7   CTAS    332.4350\n",
      "8    AMD     92.0200\n",
      "9     JD     78.9350\n"
     ]
    }
   ],
   "source": [
    "#get top 10 positions with relative momentum filter inplace\n",
    "#ie Top 10 performing assets, then drop those under performing the \n",
    "#worst performing SAFEHAVEN asset. Should be 10 or less tickers\n",
    "#sSQL = \";with cte_one as( Select Top 10 ticker, percentFromHigh, 'shares' = cast(round(?/closePrice,2) as decimal(5,2)), closePrice, cast(createDate as date) as 'createDate' From tblStockPerformance Where cast(createDate as date) = (Select Max(cast(createDate as date)) From tblStockPerformance) Order by percentFromHigh desc) Select ticker, closePrice From cte_one where percentFromHigh >= (Select min(percentFromHigh) From cte_one where ticker in ('IEF','TLT','BND','SHY','GLD')) \"\n",
    "sSQL = \"Select Top 10 ticker, closePrice From vw_tblStockPerformance Where fkPortfolioStrategyID = 1 AND momentum >=(Select min(momentum) From vw_tblStockPerformance Where ticker in ('SHY','IEF','BND','GLD','TLT')) Order by momentum desc\"\n",
    "df = getData(sSQL)\n",
    "\n",
    "print(df)\n"
   ]
  },
  {
   "cell_type": "code",
   "execution_count": 100,
   "metadata": {},
   "outputs": [
    {
     "name": "stdout",
     "output_type": "stream",
     "text": [
      "  ticker  ammount  closePrice  shareCount\n",
      "0  DXCM    1000.0      341.52        2.93\n",
      "1    IEF   1000.0      121.71        8.22\n",
      "2    SHY   1000.0       86.60       11.55\n",
      "3    GLD   1000.0      159.78        6.26\n",
      "4    ZM    1000.0      138.56        7.22\n",
      "5  REGN    1000.0      525.50        1.90\n",
      "6  PYPL    1000.0      120.61        8.29\n",
      "7  CTXS    1000.0      142.58        7.01\n",
      "8  NFLX    1000.0      415.27        2.41\n",
      "9  AMZN    1000.0     2286.04        0.44\n"
     ]
    }
   ],
   "source": [
    "#establish portfolio size and position count\n",
    "portfolioSize = 10000.00\n",
    "nPositions = 10\n",
    "\n",
    "#Equally divide funds into ideal portfolio size\n",
    "positionSize = portfolioSize/nPositions\n",
    "#initalize empty position list to be filled based on query results\n",
    "positions = []\n",
    "\n",
    "#for each ticker in the portfolio, add funds for position\n",
    "for r in df.iterrows():\n",
    "    ticker = r[1]['ticker']\n",
    "    ammount = positionSize\n",
    "    portfolioSize -= positionSize\n",
    "    closePrice = r[1]['closePrice']\n",
    "    positions.append({'ticker':ticker,'ammount':ammount,'closePrice':closePrice,'shareCount':0.0})\n",
    "\n",
    "#if funds remain, split remaning equally into SAFEHAVEN assets\n",
    "if portfolioSize >0:\n",
    "    filterSafeHavens = filter(lambda x:x['ticker'] in SAFEHAVENS,positions)\n",
    "    cntSafeHavens = len(list(filterSafeHavens))\n",
    "    extraFunds = portfolioSize/cntSafeHavens\n",
    "    for p in (p for p in positions if p['ticker'] in SAFEHAVENS):\n",
    "        p['ammount'] += extraFunds\n",
    "\n",
    "#With dollar ammount allocated, calculate estimate share count\n",
    "for p in positions:\n",
    "    p['shareCount'] = round(p['ammount']/p['closePrice'],2)\n",
    "\n",
    "#convert position list to dataFrame\n",
    "dfOrders = pd.DataFrame(positions,columns = ['ticker','ammount','closePrice','shareCount'])\n",
    "print(dfOrders)\n",
    "    \n"
   ]
  },
  {
   "cell_type": "code",
   "execution_count": 117,
   "metadata": {},
   "outputs": [
    {
     "name": "stdout",
     "output_type": "stream",
     "text": [
      "{'ticker': 'AAPL', 'fkStrategyID': ['1', '1005'], 'isUpdated': 1}\n",
      "{'ticker': 'ADBE', 'fkStrategyID': ['1'], 'isUpdated': 1}\n",
      "{'ticker': 'ADI', 'fkStrategyID': ['1'], 'isUpdated': 1}\n",
      "{'ticker': 'ADP', 'fkStrategyID': ['1'], 'isUpdated': 1}\n",
      "{'ticker': 'ADSK', 'fkStrategyID': ['1'], 'isUpdated': 1}\n",
      "{'ticker': 'ALGN', 'fkStrategyID': ['1'], 'isUpdated': 1}\n",
      "{'ticker': 'ALXN', 'fkStrategyID': ['1'], 'isUpdated': 1}\n",
      "{'ticker': 'AMAT', 'fkStrategyID': ['1'], 'isUpdated': 1}\n",
      "{'ticker': 'AMD', 'fkStrategyID': ['1'], 'isUpdated': 1}\n",
      "{'ticker': 'AMGN', 'fkStrategyID': ['1'], 'isUpdated': 1}\n",
      "{'ticker': 'AMZN', 'fkStrategyID': ['1'], 'isUpdated': 1}\n",
      "{'ticker': 'ANSS', 'fkStrategyID': ['1'], 'isUpdated': 1}\n",
      "{'ticker': 'ASML', 'fkStrategyID': ['1'], 'isUpdated': 1}\n",
      "{'ticker': 'ATVI', 'fkStrategyID': ['1'], 'isUpdated': 1}\n",
      "{'ticker': 'AVGO', 'fkStrategyID': ['1'], 'isUpdated': 1}\n",
      "{'ticker': 'AXP', 'fkStrategyID': ['1005'], 'isUpdated': 1}\n",
      "{'ticker': 'BA', 'fkStrategyID': ['1005'], 'isUpdated': 1}\n",
      "{'ticker': 'BABA', 'fkStrategyID': ['5'], 'isUpdated': 1}\n",
      "{'ticker': 'BIDU', 'fkStrategyID': ['1', '5'], 'isUpdated': 1}\n",
      "{'ticker': 'BIIB', 'fkStrategyID': ['1'], 'isUpdated': 1}\n",
      "{'ticker': 'BKNG', 'fkStrategyID': ['1'], 'isUpdated': 1}\n",
      "{'ticker': 'BMRN', 'fkStrategyID': ['1'], 'isUpdated': 1}\n",
      "{'ticker': 'BND', 'fkStrategyID': ['1'], 'isUpdated': 1}\n",
      "{'ticker': 'CAT', 'fkStrategyID': ['1005'], 'isUpdated': 1}\n",
      "{'ticker': 'CDNS', 'fkStrategyID': ['1'], 'isUpdated': 1}\n",
      "{'ticker': 'CDW', 'fkStrategyID': ['1'], 'isUpdated': 1}\n",
      "{'ticker': 'CERN', 'fkStrategyID': ['1'], 'isUpdated': 1}\n",
      "{'ticker': 'CHKP', 'fkStrategyID': ['1', '5'], 'isUpdated': 1}\n",
      "{'ticker': 'CHTR', 'fkStrategyID': ['1'], 'isUpdated': 1}\n",
      "{'ticker': 'CMCSA', 'fkStrategyID': ['1'], 'isUpdated': 1}\n",
      "{'ticker': 'COST', 'fkStrategyID': ['1'], 'isUpdated': 1}\n",
      "{'ticker': 'CPRT', 'fkStrategyID': ['1'], 'isUpdated': 1}\n",
      "{'ticker': 'CSCO', 'fkStrategyID': ['1', '1005'], 'isUpdated': 1}\n",
      "{'ticker': 'CSGP', 'fkStrategyID': ['1'], 'isUpdated': 1}\n",
      "{'ticker': 'CSX', 'fkStrategyID': ['1'], 'isUpdated': 1}\n",
      "{'ticker': 'CTAS', 'fkStrategyID': ['1'], 'isUpdated': 1}\n",
      "{'ticker': 'CTSH', 'fkStrategyID': ['1'], 'isUpdated': 1}\n",
      "{'ticker': 'CTXS', 'fkStrategyID': ['1'], 'isUpdated': 1}\n",
      "{'ticker': 'CVX', 'fkStrategyID': ['1005'], 'isUpdated': 1}\n",
      "{'ticker': 'DIS', 'fkStrategyID': ['1005'], 'isUpdated': 1}\n",
      "{'ticker': 'DLTR', 'fkStrategyID': ['1'], 'isUpdated': 1}\n",
      "{'ticker': 'DOW', 'fkStrategyID': ['1005'], 'isUpdated': 1}\n",
      "{'ticker': 'DXCM', 'fkStrategyID': ['1'], 'isUpdated': 1}\n",
      "{'ticker': 'EA', 'fkStrategyID': ['1'], 'isUpdated': 1}\n",
      "{'ticker': 'EBAY', 'fkStrategyID': ['1'], 'isUpdated': 1}\n",
      "{'ticker': 'EDC', 'fkStrategyID': ['3'], 'isUpdated': 1}\n",
      "{'ticker': 'EXC', 'fkStrategyID': ['1'], 'isUpdated': 1}\n",
      "{'ticker': 'EXPE', 'fkStrategyID': ['1'], 'isUpdated': 1}\n",
      "{'ticker': 'FAST', 'fkStrategyID': ['1'], 'isUpdated': 1}\n",
      "{'ticker': 'FB', 'fkStrategyID': ['1'], 'isUpdated': 1}\n",
      "{'ticker': 'FISV', 'fkStrategyID': ['1'], 'isUpdated': 1}\n",
      "{'ticker': 'FOX', 'fkStrategyID': ['1'], 'isUpdated': 1}\n",
      "{'ticker': 'FOXA', 'fkStrategyID': ['1'], 'isUpdated': 1}\n",
      "{'ticker': 'FVRR', 'fkStrategyID': ['5'], 'isUpdated': 1}\n",
      "{'ticker': 'GILD', 'fkStrategyID': ['1'], 'isUpdated': 1}\n",
      "{'ticker': 'GLD', 'fkStrategyID': ['1'], 'isUpdated': 1}\n",
      "{'ticker': 'GOOG', 'fkStrategyID': ['1'], 'isUpdated': 1}\n",
      "{'ticker': 'GOOGL', 'fkStrategyID': ['1'], 'isUpdated': 1}\n",
      "{'ticker': 'GS', 'fkStrategyID': ['1005'], 'isUpdated': 1}\n",
      "{'ticker': 'HD', 'fkStrategyID': ['1005'], 'isUpdated': 1}\n",
      "{'ticker': 'IBM', 'fkStrategyID': ['1005'], 'isUpdated': 1}\n",
      "{'ticker': 'IDXX', 'fkStrategyID': ['1'], 'isUpdated': 1}\n",
      "{'ticker': 'IEF', 'fkStrategyID': ['1'], 'isUpdated': 1}\n",
      "{'ticker': 'ILMN', 'fkStrategyID': ['1'], 'isUpdated': 1}\n",
      "{'ticker': 'INCY', 'fkStrategyID': ['1'], 'isUpdated': 1}\n",
      "{'ticker': 'INFY', 'fkStrategyID': ['5'], 'isUpdated': 1}\n",
      "{'ticker': 'INTC', 'fkStrategyID': ['1', '1005'], 'isUpdated': 1}\n",
      "{'ticker': 'INTU', 'fkStrategyID': ['1'], 'isUpdated': 1}\n",
      "{'ticker': 'IQ', 'fkStrategyID': ['5'], 'isUpdated': 1}\n",
      "{'ticker': 'ISRG', 'fkStrategyID': ['1'], 'isUpdated': 1}\n",
      "{'ticker': 'JD', 'fkStrategyID': ['1', '5'], 'isUpdated': 1}\n",
      "{'ticker': 'JNJ', 'fkStrategyID': ['1005'], 'isUpdated': 1}\n",
      "{'ticker': 'JPM', 'fkStrategyID': ['1005'], 'isUpdated': 1}\n",
      "{'ticker': 'KHC', 'fkStrategyID': ['1'], 'isUpdated': 1}\n",
      "{'ticker': 'KLAC', 'fkStrategyID': ['1'], 'isUpdated': 1}\n",
      "{'ticker': 'KO', 'fkStrategyID': ['1005'], 'isUpdated': 1}\n",
      "{'ticker': 'LBTYA', 'fkStrategyID': ['1'], 'isUpdated': 1}\n",
      "{'ticker': 'LBTYK', 'fkStrategyID': ['1'], 'isUpdated': 1}\n",
      "{'ticker': 'LRCX', 'fkStrategyID': ['1'], 'isUpdated': 1}\n",
      "{'ticker': 'LULU', 'fkStrategyID': ['1'], 'isUpdated': 1}\n",
      "{'ticker': 'MAR', 'fkStrategyID': ['1'], 'isUpdated': 1}\n",
      "{'ticker': 'MCD', 'fkStrategyID': ['1005'], 'isUpdated': 1}\n",
      "{'ticker': 'MCHP', 'fkStrategyID': ['1'], 'isUpdated': 1}\n",
      "{'ticker': 'MDLZ', 'fkStrategyID': ['1'], 'isUpdated': 1}\n",
      "{'ticker': 'MELI', 'fkStrategyID': ['1'], 'isUpdated': 1}\n",
      "{'ticker': 'MMM', 'fkStrategyID': ['1005'], 'isUpdated': 1}\n",
      "{'ticker': 'MNST', 'fkStrategyID': ['1'], 'isUpdated': 1}\n",
      "{'ticker': 'MRK', 'fkStrategyID': ['1005'], 'isUpdated': 1}\n",
      "{'ticker': 'MSFT', 'fkStrategyID': ['1', '1005'], 'isUpdated': 1}\n",
      "{'ticker': 'MTUM', 'fkStrategyID': ['2'], 'isUpdated': 1}\n",
      "{'ticker': 'MU', 'fkStrategyID': ['1'], 'isUpdated': 1}\n",
      "{'ticker': 'MXIM', 'fkStrategyID': ['1'], 'isUpdated': 1}\n",
      "{'ticker': 'NFLX', 'fkStrategyID': ['1'], 'isUpdated': 1}\n",
      "{'ticker': 'NKE', 'fkStrategyID': ['1005'], 'isUpdated': 1}\n",
      "{'ticker': 'NTAP', 'fkStrategyID': ['1'], 'isUpdated': 1}\n",
      "{'ticker': 'NTES', 'fkStrategyID': ['1'], 'isUpdated': 1}\n",
      "{'ticker': 'NVDA', 'fkStrategyID': ['1'], 'isUpdated': 1}\n",
      "{'ticker': 'NXPI', 'fkStrategyID': ['1'], 'isUpdated': 1}\n",
      "{'ticker': 'ORLY', 'fkStrategyID': ['1'], 'isUpdated': 1}\n",
      "{'ticker': 'PAYX', 'fkStrategyID': ['1'], 'isUpdated': 1}\n",
      "{'ticker': 'PCAR', 'fkStrategyID': ['1'], 'isUpdated': 1}\n",
      "{'ticker': 'PDD', 'fkStrategyID': ['5'], 'isUpdated': 1}\n",
      "{'ticker': 'PEP', 'fkStrategyID': ['1'], 'isUpdated': 1}\n",
      "{'ticker': 'PFE', 'fkStrategyID': ['1005'], 'isUpdated': 1}\n",
      "{'ticker': 'PG', 'fkStrategyID': ['1005'], 'isUpdated': 1}\n",
      "{'ticker': 'PYPL', 'fkStrategyID': ['1'], 'isUpdated': 1}\n",
      "{'ticker': 'QCOM', 'fkStrategyID': ['1'], 'isUpdated': 1}\n",
      "{'ticker': 'REGN', 'fkStrategyID': ['1'], 'isUpdated': 1}\n",
      "{'ticker': 'ROST', 'fkStrategyID': ['1'], 'isUpdated': 1}\n",
      "{'ticker': 'RTX', 'fkStrategyID': ['1005'], 'isUpdated': 1}\n",
      "{'ticker': 'SAP', 'fkStrategyID': ['5'], 'isUpdated': 1}\n",
      "{'ticker': 'SBUX', 'fkStrategyID': ['1'], 'isUpdated': 1}\n",
      "{'ticker': 'SGEN', 'fkStrategyID': ['1'], 'isUpdated': 1}\n",
      "{'ticker': 'SHOP', 'fkStrategyID': ['5'], 'isUpdated': 1}\n",
      "{'ticker': 'SHY', 'fkStrategyID': ['1'], 'isUpdated': 1}\n",
      "{'ticker': 'SIRI', 'fkStrategyID': ['1'], 'isUpdated': 1}\n",
      "{'ticker': 'SNPS', 'fkStrategyID': ['1'], 'isUpdated': 1}\n",
      "{'ticker': 'SPLK', 'fkStrategyID': ['1'], 'isUpdated': 1}\n",
      "{'ticker': 'SSO', 'fkStrategyID': ['2'], 'isUpdated': 1}\n",
      "{'ticker': 'SWKS', 'fkStrategyID': ['1'], 'isUpdated': 1}\n",
      "{'ticker': 'TCEHY', 'fkStrategyID': ['5'], 'isUpdated': 1}\n",
      "{'ticker': 'TCOM', 'fkStrategyID': ['1'], 'isUpdated': 1}\n",
      "{'ticker': 'TEAM', 'fkStrategyID': ['5'], 'isUpdated': 1}\n",
      "{'ticker': 'TLT', 'fkStrategyID': ['1'], 'isUpdated': 1}\n",
      "{'ticker': 'TMUS', 'fkStrategyID': ['1'], 'isUpdated': 1}\n",
      "{'ticker': 'TRV', 'fkStrategyID': ['1005'], 'isUpdated': 1}\n",
      "{'ticker': 'TSLA', 'fkStrategyID': ['1'], 'isUpdated': 1}\n",
      "{'ticker': 'TTWO', 'fkStrategyID': ['1'], 'isUpdated': 1}\n",
      "{'ticker': 'TXN', 'fkStrategyID': ['1'], 'isUpdated': 1}\n",
      "{'ticker': 'UAL', 'fkStrategyID': ['1'], 'isUpdated': 1}\n",
      "{'ticker': 'ULTA', 'fkStrategyID': ['1'], 'isUpdated': 1}\n",
      "{'ticker': 'UNH', 'fkStrategyID': ['1005'], 'isUpdated': 1}\n",
      "{'ticker': 'V', 'fkStrategyID': ['1005'], 'isUpdated': 1}\n",
      "{'ticker': 'VIPS', 'fkStrategyID': ['5'], 'isUpdated': 1}\n",
      "{'ticker': 'VRSK', 'fkStrategyID': ['1'], 'isUpdated': 1}\n",
      "{'ticker': 'VRSN', 'fkStrategyID': ['1'], 'isUpdated': 1}\n",
      "{'ticker': 'VRTX', 'fkStrategyID': ['1'], 'isUpdated': 1}\n",
      "{'ticker': 'VZ', 'fkStrategyID': ['1005'], 'isUpdated': 1}\n",
      "{'ticker': 'WBA', 'fkStrategyID': ['1', '1005'], 'isUpdated': 1}\n",
      "{'ticker': 'WDAY', 'fkStrategyID': ['1'], 'isUpdated': 1}\n",
      "{'ticker': 'WDC', 'fkStrategyID': ['1'], 'isUpdated': 1}\n",
      "{'ticker': 'WLTW', 'fkStrategyID': ['1'], 'isUpdated': 1}\n",
      "{'ticker': 'WMT', 'fkStrategyID': ['1005'], 'isUpdated': 1}\n",
      "{'ticker': 'XEL', 'fkStrategyID': ['1'], 'isUpdated': 1}\n",
      "{'ticker': 'XLB', 'fkStrategyID': ['1006'], 'isUpdated': 1}\n",
      "{'ticker': 'XLE', 'fkStrategyID': ['1006'], 'isUpdated': 1}\n",
      "{'ticker': 'XLF', 'fkStrategyID': ['1006'], 'isUpdated': 1}\n",
      "{'ticker': 'XLI', 'fkStrategyID': ['1006'], 'isUpdated': 1}\n",
      "{'ticker': 'XLK', 'fkStrategyID': ['1006'], 'isUpdated': 1}\n",
      "{'ticker': 'XLNX', 'fkStrategyID': ['1'], 'isUpdated': 1}\n",
      "{'ticker': 'XLP', 'fkStrategyID': ['1006'], 'isUpdated': 1}\n",
      "{'ticker': 'XLU', 'fkStrategyID': ['1006'], 'isUpdated': 1}\n",
      "{'ticker': 'XLV', 'fkStrategyID': ['1006'], 'isUpdated': 1}\n",
      "{'ticker': 'XLY', 'fkStrategyID': ['1006'], 'isUpdated': 1}\n",
      "{'ticker': 'XOM', 'fkStrategyID': ['1005'], 'isUpdated': 1}\n",
      "{'ticker': 'YNDX', 'fkStrategyID': ['5'], 'isUpdated': 1}\n",
      "{'ticker': 'YY', 'fkStrategyID': ['5'], 'isUpdated': 1}\n",
      "{'ticker': 'ZM', 'fkStrategyID': ['1'], 'isUpdated': 1}\n"
     ]
    }
   ],
   "source": [
    "for t in tickers:\n",
    "    print(t)"
   ]
  }
 ],
 "metadata": {
  "kernelspec": {
   "display_name": "Python 3",
   "language": "python",
   "name": "python3"
  },
  "language_info": {
   "codemirror_mode": {
    "name": "ipython",
    "version": 3
   },
   "file_extension": ".py",
   "mimetype": "text/x-python",
   "name": "python",
   "nbconvert_exporter": "python",
   "pygments_lexer": "ipython3",
   "version": "3.7.5"
  }
 },
 "nbformat": 4,
 "nbformat_minor": 2
}
