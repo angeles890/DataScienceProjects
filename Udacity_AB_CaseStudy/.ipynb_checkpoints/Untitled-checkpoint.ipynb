{
 "cells": [
  {
   "cell_type": "code",
   "execution_count": 2,
   "metadata": {},
   "outputs": [
    {
     "name": "stdout",
     "output_type": "stream",
     "text": [
      "(Rows,Columns) (29, 7)\n"
     ]
    },
    {
     "data": {
      "text/html": [
       "<div>\n",
       "<style scoped>\n",
       "    .dataframe tbody tr th:only-of-type {\n",
       "        vertical-align: middle;\n",
       "    }\n",
       "\n",
       "    .dataframe tbody tr th {\n",
       "        vertical-align: top;\n",
       "    }\n",
       "\n",
       "    .dataframe thead th {\n",
       "        text-align: right;\n",
       "    }\n",
       "</style>\n",
       "<table border=\"1\" class=\"dataframe\">\n",
       "  <thead>\n",
       "    <tr style=\"text-align: right;\">\n",
       "      <th></th>\n",
       "      <th>Day</th>\n",
       "      <th>Control Cookies</th>\n",
       "      <th>Control Downloads</th>\n",
       "      <th>Control Licenses</th>\n",
       "      <th>Experiment Cookies</th>\n",
       "      <th>Experiment Downloads</th>\n",
       "      <th>Experiment Licenses</th>\n",
       "    </tr>\n",
       "  </thead>\n",
       "  <tbody>\n",
       "    <tr>\n",
       "      <th>0</th>\n",
       "      <td>1</td>\n",
       "      <td>1764</td>\n",
       "      <td>246</td>\n",
       "      <td>1</td>\n",
       "      <td>1850</td>\n",
       "      <td>339</td>\n",
       "      <td>3</td>\n",
       "    </tr>\n",
       "    <tr>\n",
       "      <th>1</th>\n",
       "      <td>2</td>\n",
       "      <td>1541</td>\n",
       "      <td>234</td>\n",
       "      <td>2</td>\n",
       "      <td>1590</td>\n",
       "      <td>281</td>\n",
       "      <td>2</td>\n",
       "    </tr>\n",
       "    <tr>\n",
       "      <th>2</th>\n",
       "      <td>3</td>\n",
       "      <td>1457</td>\n",
       "      <td>240</td>\n",
       "      <td>1</td>\n",
       "      <td>1515</td>\n",
       "      <td>274</td>\n",
       "      <td>1</td>\n",
       "    </tr>\n",
       "    <tr>\n",
       "      <th>3</th>\n",
       "      <td>4</td>\n",
       "      <td>1587</td>\n",
       "      <td>224</td>\n",
       "      <td>1</td>\n",
       "      <td>1541</td>\n",
       "      <td>284</td>\n",
       "      <td>2</td>\n",
       "    </tr>\n",
       "    <tr>\n",
       "      <th>4</th>\n",
       "      <td>5</td>\n",
       "      <td>1606</td>\n",
       "      <td>253</td>\n",
       "      <td>2</td>\n",
       "      <td>1643</td>\n",
       "      <td>292</td>\n",
       "      <td>3</td>\n",
       "    </tr>\n",
       "  </tbody>\n",
       "</table>\n",
       "</div>"
      ],
      "text/plain": [
       "   Day  Control Cookies  Control Downloads  Control Licenses  \\\n",
       "0    1             1764                246                 1   \n",
       "1    2             1541                234                 2   \n",
       "2    3             1457                240                 1   \n",
       "3    4             1587                224                 1   \n",
       "4    5             1606                253                 2   \n",
       "\n",
       "   Experiment Cookies  Experiment Downloads  Experiment Licenses  \n",
       "0                1850                   339                    3  \n",
       "1                1590                   281                    2  \n",
       "2                1515                   274                    1  \n",
       "3                1541                   284                    2  \n",
       "4                1643                   292                    3  "
      ]
     },
     "execution_count": 2,
     "metadata": {},
     "output_type": "execute_result"
    }
   ],
   "source": [
    "import pandas as pd\n",
    "import numpy as np\n",
    "import scipy.stats\n",
    "\n",
    "\n",
    "df = pd.read_csv('experiment_data.csv',sep=',')\n",
    "\n",
    "print('(Rows,Columns)', df.shape)\n",
    "df.head()"
   ]
  },
  {
   "cell_type": "code",
   "execution_count": 3,
   "metadata": {},
   "outputs": [
    {
     "name": "stdout",
     "output_type": "stream",
     "text": [
      "<class 'pandas.core.frame.DataFrame'>\n",
      "RangeIndex: 29 entries, 0 to 28\n",
      "Data columns (total 7 columns):\n",
      "Day                     29 non-null int64\n",
      "Control Cookies         29 non-null int64\n",
      "Control Downloads       29 non-null int64\n",
      "Control Licenses        29 non-null int64\n",
      "Experiment Cookies      29 non-null int64\n",
      "Experiment Downloads    29 non-null int64\n",
      "Experiment Licenses     29 non-null int64\n",
      "dtypes: int64(7)\n",
      "memory usage: 1.7 KB\n"
     ]
    }
   ],
   "source": [
    "\n",
    "df.info()"
   ]
  },
  {
   "cell_type": "code",
   "execution_count": 36,
   "metadata": {},
   "outputs": [],
   "source": []
  },
  {
   "cell_type": "code",
   "execution_count": 4,
   "metadata": {},
   "outputs": [
    {
     "name": "stdout",
     "output_type": "stream",
     "text": [
      "P value is 0.10678300401876598\n"
     ]
    }
   ],
   "source": [
    "# evaluate invariant metrics\n",
    "n_control = df['Control Cookies'].sum()\n",
    "n_experiment = df['Experiment Cookies'].sum()\n",
    "total = n_control + n_experiment\n",
    "\n",
    "\n",
    "standard_error = np.sqrt((.5*.5)/(n_control+n_experiment))\n",
    "p_val = scipy.stats.norm.sf(((n_experiment/total)-.5)/standard_error)*2\n",
    "print(f'P value is {p_val}')\n",
    "\n"
   ]
  },
  {
   "cell_type": "code",
   "execution_count": 27,
   "metadata": {},
   "outputs": [
    {
     "name": "stdout",
     "output_type": "stream",
     "text": [
      "3.5228559273456157e-15 7.870833726066236\n"
     ]
    }
   ],
   "source": [
    "# evaluate metric 1: download rate\n",
    "download_c = df['Control Downloads'].sum()\n",
    "download_e = df['Experiment Downloads'].sum()\n",
    "download_global_rate = (download_c+download_e)/total\n",
    "\n",
    "# get download rate for control and experimental\n",
    "d_rate_c = download_c/n_control\n",
    "d_rate_e = download_e/n_experiment\n",
    "\n",
    "standard_error = np.sqrt(download_global_rate * (1-download_global_rate)*((1/n_control)+(1/n_experiment))) #np.sqrt(download_global_rate * (1-download_global_rate)/(total))\n",
    "diff = d_rate_e-d_rate_c\n",
    "z_val = diff/standard_error\n",
    "\n",
    "pval = scipy.stats.norm.sf(z_val)*2\n",
    "print(pval, z_val)\n"
   ]
  },
  {
   "cell_type": "code",
   "execution_count": 41,
   "metadata": {},
   "outputs": [
    {
     "name": "stdout",
     "output_type": "stream",
     "text": [
      "0.3974318867982395\n"
     ]
    }
   ],
   "source": [
    "# evaluate metric 2: purchase rate\n",
    "# calc totals based on 21 day filter\n",
    "df_filtered = df.query('Day <= 21')\n",
    "\n",
    "n_control = df_filtered['Control Cookies'].sum()\n",
    "n_experiment = df_filtered['Experiment Cookies'].sum()\n",
    "total =  n_control + n_experiment\n",
    "\n",
    "purchase_c = df_filtered['Control Licenses'].sum()\n",
    "purchase_e = df_filtered['Experiment Licenses'].sum()\n",
    "\n",
    "# get pooled global rate\n",
    "purchase_global = (purchase_c+purchase_e)/total\n",
    "\n",
    "# get purchase rates by each group\n",
    "p_rate_c = purchase_c/n_control\n",
    "p_rate_e = purchase_e/n_experiment\n",
    "purchase_diff = p_rate_e -  p_rate_c\n",
    "\n",
    "# get standard error\n",
    "purchase_standard_error =  np.sqrt(purchase_global * (1-purchase_global)*((1/n_control)+(1/n_experiment)))\n",
    "z_val_purhcase = purchase_diff/purchase_standard_error\n",
    "p_val = scipy.stats.norm.sf(.26)\n",
    "\n",
    "print(p_val)"
   ]
  }
 ],
 "metadata": {
  "kernelspec": {
   "display_name": "Python 3",
   "language": "python",
   "name": "python3"
  },
  "language_info": {
   "codemirror_mode": {
    "name": "ipython",
    "version": 3
   },
   "file_extension": ".py",
   "mimetype": "text/x-python",
   "name": "python",
   "nbconvert_exporter": "python",
   "pygments_lexer": "ipython3",
   "version": "3.7.5"
  }
 },
 "nbformat": 4,
 "nbformat_minor": 2
}
